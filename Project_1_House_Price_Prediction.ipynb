{
  "nbformat": 4,
  "nbformat_minor": 0,
  "metadata": {
    "colab": {
      "provenance": [],
      "authorship_tag": "ABX9TyNIIIbGmRf+2O2qXjumJ5Ty",
      "include_colab_link": true
    },
    "kernelspec": {
      "name": "python3",
      "display_name": "Python 3"
    },
    "language_info": {
      "name": "python"
    }
  },
  "cells": [
    {
      "cell_type": "markdown",
      "metadata": {
        "id": "view-in-github",
        "colab_type": "text"
      },
      "source": [
        "<a href=\"https://colab.research.google.com/github/PeeranatK/Project-1-House-Price-Prediction/blob/main/Project_1_House_Price_Prediction.ipynb\" target=\"_parent\"><img src=\"https://colab.research.google.com/assets/colab-badge.svg\" alt=\"Open In Colab\"/></a>"
      ]
    },
    {
      "cell_type": "markdown",
      "source": [
        "Split"
      ],
      "metadata": {
        "id": "67NqhptKXUF7"
      }
    },
    {
      "cell_type": "code",
      "execution_count": 49,
      "metadata": {
        "id": "CJ0Dckxgf_WZ"
      },
      "outputs": [],
      "source": [
        "import pandas as pd\n",
        "import numpy as np\n",
        "from sklearn.model_selection import train_test_split\n",
        "from sklearn.linear_model import LinearRegression\n",
        "from sklearn.preprocessing import StandardScaler\n",
        "from sklearn.metrics import mean_squared_error\n",
        "from sklearn.metrics import mean_absolute_error as mae\n",
        "\n",
        "df=pd.read_csv('house_data_train.csv', index_col = 0)\n",
        "df = df.dropna()\n",
        "df1 = df.head(16210)\n",
        "\n",
        "#X = df1[['sqft_living','bedrooms']].values\n",
        "#y = df1['price'].values\n",
        "\n",
        "X = df1[['sqft_living','bedrooms','bathrooms','sqft_lot','sqft_living15','sqft_lot15','sqft_above','sqft_basement','floors','yr_built','yr_renovated','condition','grade','waterfront','view','lat','long','zipcode']].values\n",
        "y = df1['price'].values\n",
        "\n",
        "#X = X.reshape(-1,1)\n",
        "X = X.reshape(-1,18)\n",
        "\n",
        "X_train, X_test, y_train,y_test = train_test_split(X,y, test_size = 0.3,shuffle = False)\n",
        "\n",
        "#print(X)\n",
        "#print(y)\n",
        "#print(X.values)\n",
        "#X = df1[['sqft_living']].values\n",
        "#print(X)"
      ]
    },
    {
      "cell_type": "code",
      "source": [
        "from sklearn.linear_model import LinearRegression\n",
        "from sklearn.preprocessing import StandardScaler\n",
        "from sklearn.metrics import mean_squared_error\n",
        "from sklearn.metrics import mean_absolute_error\n",
        "\n",
        "import matplotlib.pyplot as plt\n",
        "import seaborn as sns\n",
        "\n",
        "import joblib \n",
        "#joblib.dump(model,'best_model.pkl')\n",
        "\n",
        "#print('\\n',X.shape)\n",
        "#print('\\n',X_train.shape)\n",
        "#print('\\n',y.shape)\n",
        "#print('\\n',y_train.shape)"
      ],
      "metadata": {
        "id": "xHqzcC4rhuSm"
      },
      "execution_count": null,
      "outputs": []
    },
    {
      "cell_type": "markdown",
      "source": [
        "Linear"
      ],
      "metadata": {
        "id": "4IoVLWfnXcXZ"
      }
    },
    {
      "cell_type": "code",
      "source": [
        "from sklearn.model_selection import KFold\n",
        "from sklearn.model_selection import cross_val_score\n",
        "\n",
        "kfold = KFold(n_splits=5,shuffle=True,random_state=10)\n",
        "scaler = StandardScaler()\n",
        "X_scaled = scaler.fit_transform(X_train)\n",
        "lr = LinearRegression()\n",
        "\n",
        "model = lr.fit(X_scaled, y_train)\n",
        "\n",
        "rscore = cross_val_score(model, X_train, y_train, cv = kfold)\n",
        "#final_model = model.fit(X_scaled,y_train)\n",
        "#y_pred = model.predict(final_model)\n",
        "#mse1 = mean_squared_error(y_train, Y_pred1)\n",
        "#mae1 = mean_absolute_error(y_train, Y_pred1)\n",
        "#mse2 = abs(cross_val_score(lr, X_train, y_train, cv = kfold, scoring = 'neg_mean_squared_error')).mean()\n",
        "mae2 = -1*cross_val_score(lr, X_train, y_train, cv = kfold, scoring = 'neg_mean_absolute_error').mean()\n",
        "\n",
        "#mae = mae(y_test, y_pred)\n",
        "\n",
        "\n",
        "\n",
        "#print('r2-score:', cv_score.mean().round(2), '\\nmean squared error:', mse1.round(2), '\\nmean absolute error:', mae1.round(2))\n",
        "#print('\\nmean2 squared error2:', mse2.round(2), '\\nmean2 absolute error2:', mae2.round(2))\n",
        "\n",
        "print('r2-score:', rscore.mean(),'mae: ',mae2)\n"
      ],
      "metadata": {
        "colab": {
          "base_uri": "https://localhost:8080/"
        },
        "id": "Vr8kRcDdZKDx",
        "outputId": "65a57aac-d10b-470a-8043-e34ed00297aa"
      },
      "execution_count": null,
      "outputs": [
        {
          "output_type": "stream",
          "name": "stdout",
          "text": [
            "r2-score: 0.6453252854148139 mae:  141276.66626701917\n"
          ]
        }
      ]
    },
    {
      "cell_type": "markdown",
      "source": [
        "Polynomial"
      ],
      "metadata": {
        "id": "HjHK1TeAXiFI"
      }
    },
    {
      "cell_type": "code",
      "source": [
        "from sklearn.preprocessing import PolynomialFeatures\n",
        "from sklearn.model_selection import train_test_split\n",
        "from sklearn.impute import SimpleImputer\n",
        "from sklearn.pipeline import Pipeline\n",
        "from sklearn.linear_model import Lasso\n",
        "from sklearn.linear_model import Ridge\n",
        "from sklearn.model_selection import KFold\n",
        "from sklearn.model_selection import cross_val_score\n",
        "from sklearn.linear_model import LinearRegression\n",
        "from sklearn.preprocessing import StandardScaler\n",
        "\n",
        "#ignore warning\n",
        "def warn(*args, **kwargs):\n",
        "    pass\n",
        "import warnings\n",
        "warnings.warn = warn\n",
        "#\n",
        "\n",
        "\n",
        "kfold = KFold(n_splits=5,shuffle=True,random_state=10)\n",
        "steps = [(\"imp_mean\",SimpleImputer()),(\"scaler\",StandardScaler()),(\"transform\",PolynomialFeatures(degree = 5)),(\"liReg\",LinearRegression())]\n",
        "pipeline = Pipeline(steps)\n",
        "pipeline.fit(X_train,y_train)\n",
        "\n",
        "\n",
        "#rscore = pipeline.score(X_train,y_train)\n",
        "#rscore2 = pipeline.score(X_test,y_test)\n",
        "#pipeline.fit(X_train,y_train)\n",
        "#Y_pred = pipeline.predict(X_train)\n",
        "rscore = cross_val_score(pipeline, X_train, y_train, cv = kfold, scoring = 'r2').mean()\n",
        "rscore2 = cross_val_score(pipeline, X_test, y_test, cv = kfold, scoring = 'r2').mean()\n",
        "#mse = mean_squared_error(y, Y_pred)\n",
        "#mae = mean_absolute_error(y, Y_pred)\n",
        "#mse2 = abs(cross_val_score(pipeline, X_train, y_train, cv = kfold, scoring = 'neg_mean_squared_error')).mean()\n",
        "mae = -1*cross_val_score(pipeline, X_train, y_train, cv = kfold, scoring = 'neg_mean_absolute_error').mean()\n",
        "\n",
        "pipeline.fit(X_train,y_train)\n",
        "\n",
        "\n",
        "#print('r2-score:', rscore.round(2), '\\nmean squared error:', mse.round(2), '\\nmean absolute error:', mae.round(2))\n",
        "print('r2-score:', rscore, 'r2-score2:', rscore2, '\\nmean2 absolute error2:', mae.round(2))\n",
        "#print('r2-score:', rscore2)\n",
        "#print(y_train,'\\n',Y_pred)\n"
      ],
      "metadata": {
        "id": "hddIzmLcXoTD"
      },
      "execution_count": null,
      "outputs": []
    },
    {
      "cell_type": "markdown",
      "source": [
        "Lasso"
      ],
      "metadata": {
        "id": "K82gxRxJXo5z"
      }
    },
    {
      "cell_type": "code",
      "source": [
        "from sklearn.preprocessing import PolynomialFeatures\n",
        "from sklearn.model_selection import train_test_split\n",
        "from sklearn.impute import SimpleImputer\n",
        "from sklearn.pipeline import Pipeline\n",
        "from sklearn.linear_model import Lasso\n",
        "from sklearn.linear_model import Ridge\n",
        "from sklearn.model_selection import KFold\n",
        "from sklearn.model_selection import cross_val_score\n",
        "from sklearn.linear_model import LinearRegression\n",
        "from sklearn.preprocessing import StandardScaler\n",
        "\n",
        "from sklearn.metrics import r2_score\n",
        "\n",
        "#ignore warning\n",
        "def warn(*args, **kwargs):\n",
        "    pass\n",
        "import warnings\n",
        "warnings.warn = warn\n",
        "#\n",
        "\n",
        "\n",
        "kfold = KFold(n_splits=5,shuffle=True,random_state=10)\n",
        "steps = [(\"imp_mean\",SimpleImputer()),(\"scaler\",StandardScaler()),(\"transform\",PolynomialFeatures(degree = 3)),(\"lassoReg\",Lasso(alpha=25,max_iter=20000,normalize=True))]\n",
        "pipeline = Pipeline(steps)\n",
        "#pipeline.fit(X_train,y_train)\n",
        "\n",
        "rscore = cross_val_score(pipeline, X_train, y_train, cv = kfold, scoring = 'r2').mean()\n",
        "pipeline.fit(X_train,y_train)\n",
        "rscore2 = cross_val_score(pipeline, X_test, y_test, cv = kfold, scoring = 'r2').mean()\n",
        "\n",
        "Y_pred = pipeline.predict(X_test)\n",
        "\n",
        "#mse = mean_squared_error(y, Y_pred)\n",
        "#mae = mean_absolute_error(y, Y_pred)\n",
        "#mse2 = abs(cross_val_score(pipeline, X_train, y_train, cv = kfold, scoring = 'neg_mean_squared_error')).mean()\n",
        "mae2 = -1*cross_val_score(pipeline, X_train, y_train, cv = kfold, scoring = 'neg_mean_absolute_error').mean()\n",
        "\n",
        "#print('r2-score:', rscore.round(2), '\\nmean squared error:', mse.round(2), '\\nmean absolute error:', mae.round(2))\n",
        "#print('r2-score:', rscore.round(2), '\\nmean2 absolute error2:', mae2.round(2))\n",
        "print('r2-score:', rscore, 'r2-score2:', rscore2, '\\nmean absolute error:', mae2.round(2))\n",
        "print(y_train,'\\n',Y_pred)\n"
      ],
      "metadata": {
        "id": "73RTs6r0Xrve",
        "colab": {
          "base_uri": "https://localhost:8080/"
        },
        "outputId": "2dacdc9d-2be2-4d1e-9161-b0fbcf8420bf"
      },
      "execution_count": 53,
      "outputs": [
        {
          "output_type": "stream",
          "name": "stdout",
          "text": [
            "r2-score: 0.835664716974678 r2-score2: 0.8510131483613493 \n",
            "mean absolute error: 87619.5\n",
            "[350000. 475000. 422000. ... 530000. 830200. 536000.] \n",
            " [373343.45638708 549511.11515169 413762.55054813 ... 636543.98527281\n",
            " 657053.02858036 255465.63544866]\n"
          ]
        }
      ]
    },
    {
      "cell_type": "markdown",
      "source": [
        "Ridge"
      ],
      "metadata": {
        "id": "O7QMOGGrXsBU"
      }
    },
    {
      "cell_type": "code",
      "source": [
        "from sklearn.preprocessing import PolynomialFeatures\n",
        "from sklearn.model_selection import train_test_split\n",
        "from sklearn.impute import SimpleImputer\n",
        "from sklearn.pipeline import Pipeline\n",
        "from sklearn.linear_model import Lasso\n",
        "from sklearn.linear_model import Ridge\n",
        "from sklearn.model_selection import KFold\n",
        "from sklearn.model_selection import cross_val_score\n",
        "from sklearn.linear_model import LinearRegression\n",
        "from sklearn.preprocessing import StandardScaler\n",
        "\n",
        "#ignore warning\n",
        "def warn(*args, **kwargs):\n",
        "    pass\n",
        "import warnings\n",
        "warnings.warn = warn\n",
        "#\n",
        "\n",
        "\n",
        "kfold = KFold(n_splits=5,shuffle=True,random_state=10)\n",
        "steps = [(\"imp_mean\",SimpleImputer()),(\"scaler\",StandardScaler()),(\"transform\",PolynomialFeatures(degree = 3)),(\"lassoReg\",Ridge(alpha=0.07,normalize=True))]\n",
        "pipeline = Pipeline(steps)\n",
        "pipeline.fit(X_train,y_train)\n",
        "\n",
        "rscore = cross_val_score(pipeline, X_train, y_train, cv = kfold, scoring = 'r2').mean()\n",
        "#rscore2 = cross_val_score(pipeline, X_test, y_test, cv = kfold, scoring = 'r2').mean()\n",
        "\n",
        "#pipeline.fit(X_train,y_train)\n",
        "Y_pred = pipeline.predict(X_test)\n",
        "\n",
        "\n",
        "rscore2 = cross_val_score(pipeline, X_test, y_test, cv = kfold, scoring = 'r2').mean()\n",
        "\n",
        "#mse = mean_squared_error(y, Y_pred)\n",
        "#mae = mean_absolute_error(y, Y_pred)\n",
        "#mse2 = abs(cross_val_score(pipeline, X_train, y_train, cv = kfold, scoring = 'neg_mean_squared_error')).mean()\n",
        "mae2 = -1*cross_val_score(pipeline, X_train, y_train, cv = kfold, scoring = 'neg_mean_absolute_error').mean()\n",
        "\n",
        "#print('r2-score:', rscore.round(2), '\\nmean squared error:', mse.round(2), '\\nmean absolute error:', mae.round(2))\n",
        "#print('r2-score:', rscore.round(2), '\\nmean2 squared error2:', mse2.round(2), '\\nmean2 absolute error2:', mae2.round(2))\n",
        "print('r2-score:', rscore, 'r2-score2:', rscore2, '\\nmean absolute error2:', mae2.round(2))\n",
        "print('Y_pred:', Y_pred, 'Y_test: ', y_test)\n"
      ],
      "metadata": {
        "id": "msdCtXdLXtdP",
        "colab": {
          "base_uri": "https://localhost:8080/"
        },
        "outputId": "14436cad-459f-45cd-ab83-976e98338770"
      },
      "execution_count": 51,
      "outputs": [
        {
          "output_type": "stream",
          "name": "stdout",
          "text": [
            "r2-score: 0.8130448313677121 r2-score2: 0.7628913916248573 \n",
            "mean absolute error2: 92140.14\n",
            "Y_pred: [358433.59786179 527095.95735487 409050.59250465 ... 601565.9373658\n",
            " 746161.26653534 302138.8116632 ] Y_test:  [ 330000.  615000.  329950. ...  649990. 1000000.  280000.]\n"
          ]
        }
      ]
    },
    {
      "cell_type": "markdown",
      "source": [
        "Export\n"
      ],
      "metadata": {
        "id": "EbwBq94KeXRI"
      }
    },
    {
      "cell_type": "code",
      "source": [
        "from sklearn.preprocessing import PolynomialFeatures\n",
        "from sklearn.model_selection import train_test_split\n",
        "from sklearn.impute import SimpleImputer\n",
        "from sklearn.pipeline import Pipeline\n",
        "from sklearn.linear_model import Lasso\n",
        "from sklearn.linear_model import Ridge\n",
        "from sklearn.model_selection import KFold\n",
        "from sklearn.model_selection import cross_val_score\n",
        "from sklearn.linear_model import LinearRegression\n",
        "from sklearn.preprocessing import StandardScaler\n",
        "\n",
        "from sklearn.metrics import r2_score\n",
        "import joblib \n",
        "\n",
        "\n",
        "#ignore warning\n",
        "def warn(*args, **kwargs):\n",
        "    pass\n",
        "import warnings\n",
        "warnings.warn = warn\n",
        "#\n",
        "\n",
        "\n",
        "kfold = KFold(n_splits=5,shuffle=True,random_state=10)\n",
        "steps = [(\"imp_mean\",SimpleImputer()),(\"scaler\",StandardScaler()),(\"transform\",PolynomialFeatures(degree = 3)),(\"lassoReg\",Lasso(alpha=25,max_iter=20000,normalize=True))]\n",
        "pipeline = Pipeline(steps)\n",
        "#pipeline.fit(X_train,y_train)\n",
        "\n",
        "rscore = cross_val_score(pipeline, X_train, y_train, cv = kfold, scoring = 'r2').mean()\n",
        "pipeline.fit(X_train,y_train)\n",
        "rscore2 = cross_val_score(pipeline, X_test, y_test, cv = kfold, scoring = 'r2').mean()\n",
        "\n",
        "Y_pred = pipeline.predict(X_test)\n",
        "\n",
        "#mse = mean_squared_error(y, Y_pred)\n",
        "#mae = mean_absolute_error(y, Y_pred)\n",
        "#mse2 = abs(cross_val_score(pipeline, X_train, y_train, cv = kfold, scoring = 'neg_mean_squared_error')).mean()\n",
        "mae2 = -1*cross_val_score(pipeline, X_train, y_train, cv = kfold, scoring = 'neg_mean_absolute_error').mean()\n",
        "\n",
        "#print('r2-score:', rscore.round(2), '\\nmean squared error:', mse.round(2), '\\nmean absolute error:', mae.round(2))\n",
        "#print('r2-score:', rscore.round(2), '\\nmean2 absolute error2:', mae2.round(2))\n",
        "print('r2-score:', rscore, 'r2-score2:', rscore2, '\\nmean absolute error:', mae2.round(2))\n",
        "print(y_train,'\\n',Y_pred)\n",
        "\n",
        "joblib.dump(pipeline,'best_model.pkl')"
      ],
      "metadata": {
        "colab": {
          "base_uri": "https://localhost:8080/"
        },
        "id": "oEzYWxXqeZnK",
        "outputId": "0204027d-e0f2-453d-80b4-5b49fb1b5727"
      },
      "execution_count": 54,
      "outputs": [
        {
          "output_type": "stream",
          "name": "stdout",
          "text": [
            "r2-score: 0.835664716974678 r2-score2: 0.8510131483613493 \n",
            "mean absolute error: 87619.5\n",
            "[350000. 475000. 422000. ... 530000. 830200. 536000.] \n",
            " [373343.45638708 549511.11515169 413762.55054813 ... 636543.98527281\n",
            " 657053.02858036 255465.63544866]\n"
          ]
        },
        {
          "output_type": "execute_result",
          "data": {
            "text/plain": [
              "['best_model.pkl']"
            ]
          },
          "metadata": {},
          "execution_count": 54
        }
      ]
    }
  ]
}